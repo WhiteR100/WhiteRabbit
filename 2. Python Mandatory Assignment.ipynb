{
 "cells": [
  {
   "cell_type": "markdown",
   "metadata": {
    "colab_type": "text",
    "id": "BurSaAFUzQf_"
   },
   "source": [
    "<h1>Python: without numpy or sklearn </h1>"
   ]
  },
  {
   "cell_type": "markdown",
   "metadata": {
    "colab_type": "text",
    "id": "R_M8ThqXzQgA"
   },
   "source": [
    "<h3> Q1: Given two matrices please print the product of those two matrices </h3>\n",
    "<pre>\n",
    "\n",
    "Ex 1: A   = [[1 3 4]\n",
    "             [2 5 7]\n",
    "             [5 9 6]]\n",
    "      B   = [[1 0 0]\n",
    "             [0 1 0]\n",
    "             [0 0 1]]\n",
    "      A*B = [[1 3 4]\n",
    "             [2 5 7]\n",
    "             [5 9 6]]\n",
    "\n",
    "     \n",
    "Ex 2: A   = [[1 2]\n",
    "             [3 4]]\n",
    "      B   = [[1 2 3 4 5]\n",
    "             [5 6 7 8 9]]\n",
    "      A*B = [[11 14 17 20 23]\n",
    "             [18 24 30 36 42]]\n",
    "             \n",
    "Ex 3: A   = [[1 2]\n",
    "             [3 4]]\n",
    "      B   = [[1 4]\n",
    "             [5 6]\n",
    "             [7 8]\n",
    "             [9 6]]\n",
    "      A*B =Not possible\n",
    "</pre>"
   ]
  },
  {
   "cell_type": "code",
   "execution_count": 18,
   "metadata": {
    "colab": {},
    "colab_type": "code",
    "id": "_EELp8o7zQgB"
   },
   "outputs": [
    {
     "name": "stdout",
     "output_type": "stream",
     "text": [
      "[1, 3, 4]\n",
      "[2, 5, 7]\n",
      "[5, 9, 6]\n"
     ]
    },
    {
     "data": {
      "text/plain": [
       "[5, 9, 6]"
      ]
     },
     "execution_count": 18,
     "metadata": {},
     "output_type": "execute_result"
    }
   ],
   "source": [
    "# write your python code here\n",
    "# you can take the above example as sample input for your program to test\n",
    "# it should work for any general input try not to hard code for only given input examples\n",
    "\n",
    "\n",
    "# you can free to change all these codes/structure\n",
    "# here A and B are list of lists\n",
    "A   = [[1,3,4],\n",
    "           [2,5,7],\n",
    "           [5,9,6]]\n",
    "B   = [[1,0,0],\n",
    "           [0,1,0],\n",
    "           [0,0,1]]\n",
    "def matrix_mul(A, B):\n",
    "     \n",
    "    \n",
    "# result will be 3x4 \n",
    "    result = [[sum(a * b for a, b in zip(A_row, B_col))for B_col in zip(*B)]for A_row in A] \n",
    "  \n",
    "    for r in result: \n",
    "        print(r) \n",
    "    # write your code\n",
    "    return(r)#multiplication_of_A_and_B)\n",
    "    \n",
    "matrix_mul(A, B)"
   ]
  },
  {
   "cell_type": "markdown",
   "metadata": {
    "colab_type": "text",
    "id": "2ZMnHrwNzQgD"
   },
   "source": [
    "<h3> Q2: Select a number randomly with probability proportional to its magnitude from the given array of n elements</h3>\n",
    "\n",
    "consider an experiment, selecting an element from the list A randomly with probability proportional to its magnitude.\n",
    "assume we are doing the same experiment for 100 times with replacement, in each experiment you will print a number that is selected randomly from A.\n",
    "\n",
    "<pre>\n",
    "Ex 1: A = [0 5 27 6 13 28 100 45 10 79]\n",
    "let f(x) denote the number of times x getting selected in 100 experiments.\n",
    "f(100) > f(79) > f(45) > f(28) > f(27) > f(13) > f(10) > f(6) > f(5) > f(0)\n",
    "</pre>"
   ]
  },
  {
   "cell_type": "code",
   "execution_count": 1,
   "metadata": {
    "colab": {
     "base_uri": "https://localhost:8080/",
     "height": 313
    },
    "colab_type": "code",
    "executionInfo": {
     "elapsed": 1064,
     "status": "error",
     "timestamp": 1561186084915,
     "user": {
      "displayName": "Applied AI Course",
      "photoUrl": "https://lh5.googleusercontent.com/-9_3A9F-kDXs/AAAAAAAAAAI/AAAAAAAAACw/IprjYvUuoXQ/s64/photo.jpg",
      "userId": "00484516897554883881"
     },
     "user_tz": -330
    },
    "id": "Qh4J8ifYzQgD",
    "outputId": "72ed3154-1f9a-4500-881c-facf8957b9c6"
   },
   "outputs": [
    {
     "name": "stdout",
     "output_type": "stream",
     "text": [
      "Enter a list of numbers or elements separated by space: 4 5 6 9 8 7 4 1 2 3 6 5 4 8 7 9 \n",
      "user list is  ['4', '5', '6', '9', '8', '7', '4', '1', '2', '3', '6', '5', '4', '8', '7', '9']\n",
      "Counter({7: 18, 4: 18, 8: 16, 5: 16, 6: 14, 9: 6, 1: 5, 2: 3, 3: 3})\n"
     ]
    }
   ],
   "source": [
    "import random\n",
    "from random import uniform\n",
    "import collections\n",
    "# write your python code here\n",
    "# you can take the above example as sample input for your program to test\n",
    "# it should work for any general input try not to hard code for only given input examples\n",
    "\n",
    "#take input from user\n",
    "\n",
    "input_string = input(\"Enter a list of numbers or elements separated by space: \")\n",
    "A = input_string.split()\n",
    "print(\"user list is \", A)\n",
    "\n",
    "# using map() to perform conversion from input string to integer \n",
    "A = list(map(int, A)) \n",
    "\n",
    "# you can free to change all these codes/structure\n",
    "def pick_a_number_from_list(A):\n",
    "    # your code here for picking an element from with the probability propotional to its magnitude\n",
    "    # using random.choice() to get a random number  \n",
    "    #  random_num = random.choice(test_list) \n",
    "    # using random.uniform() to get a random float number \n",
    "    rand_idx = len(A)-1\n",
    "    #random_num = random.uniform(A[0],A[rand_idx]) \n",
    "    random_num = random.choice(A) \n",
    "    \n",
    "    return random_num #selected_random_number\n",
    "\n",
    "def sampling_based_on_magnitued():\n",
    "    number = []       #declaring empty list\n",
    "    for i in range(1,100):\n",
    "        number1 = [pick_a_number_from_list(A)] #converting int to list to use collection.counter,\n",
    "                                                    #the list elements will be string by default\n",
    "        #print (type(number1) )\n",
    "        number = number + number1   # appending 2 list into a singular one\n",
    "# Declaring counter outside for loop:\n",
    "\n",
    "    counter = collections.Counter(number)\n",
    "    #print(number)\n",
    "    print(counter)\n",
    "#a = [1,1,1,1,2,2,2,2,3,3,4,5,5]\n",
    "#counter=collections.Counter(a)\n",
    "#print(counter)\n",
    "# Counter({1: 4, 2: 4, 3: 2, 5: 2, 4: 1})\n",
    "#print(counter.values())\n",
    "# [4, 4, 2, 1, 2]\n",
    "#print(counter.keys())\n",
    "# [1, 2, 3, 4, 5]\n",
    "#print(counter.most_common(3))\n",
    "# [(1, 4), (2, 4), (3, 2)]\n",
    "sampling_based_on_magnitued()\n"
   ]
  },
  {
   "cell_type": "markdown",
   "metadata": {
    "colab_type": "text",
    "id": "e323QFvPzQgF"
   },
   "source": [
    "<h3> Q3: Replace the digits in the string with #</h3>\n",
    "\n",
    "Consider a string that will have digits in that, we need to remove all the characters which are not digits and replace the digits with #\n",
    "<pre>\n",
    "Ex 1: A = 234                Output: ###\n",
    "Ex 2: A = a2b3c4             Output: ###\n",
    "Ex 3: A = abc                Output:   (empty string)\n",
    "Ex 5: A = #2a$#b%c%561#      Output: ####\n",
    "</pre>"
   ]
  },
  {
   "cell_type": "code",
   "execution_count": 29,
   "metadata": {
    "colab": {},
    "colab_type": "code",
    "id": "Ng2BGL2wzQgF"
   },
   "outputs": [
    {
     "name": "stdout",
     "output_type": "stream",
     "text": [
      "Enter some numbers or elements #2a$#b%c%561#\n",
      "user input is  #2a$#b%c%561#\n"
     ]
    },
    {
     "data": {
      "text/plain": [
       "'####'"
      ]
     },
     "execution_count": 29,
     "metadata": {},
     "output_type": "execute_result"
    }
   ],
   "source": [
    "import re          # for regular expression\n",
    "# write your python code here  \n",
    "# you can take the above example as sample input for your program to test\n",
    "# it should work for any general input try not to hard code for only given input examples\n",
    "\n",
    "# you can free to change all these codes/structure\n",
    "# String: it will be the input to your program\n",
    "\n",
    "String = input(\"Enter some numbers or elements \")\n",
    "print(\"user input is \", String)\n",
    "#string1 = ''   # declaring another string\n",
    "#new_string =''\n",
    "\n",
    "def replace_digits(String):\n",
    "    # write your code\n",
    "    # \\D - Matches any non-decimal digit. Equivalent to [^0-9]\n",
    "    pattern1 = '\\D'\n",
    "    replace1 = ''\n",
    "    string1 = re.sub(pattern1, replace1, String)\n",
    "    #print(string1)\n",
    "     # \\d - Matches any decimal digit. Equivalent to [0-9]\n",
    "    pattern = '\\d'\n",
    "    replace = '#'\n",
    "    new_string = re.sub(pattern, replace, string1) \n",
    "    #print(new_string)\n",
    "\n",
    "    return(new_string) # modified string which is after replacing the # with digits\n",
    "\n",
    "replace_digits(String)"
   ]
  },
  {
   "cell_type": "markdown",
   "metadata": {
    "colab_type": "text",
    "id": "VodlThpgzQgH"
   },
   "source": [
    "<h3> Q4: Students marks dashboard</h3>\n",
    "\n",
    "Consider the marks list of class students given in two lists <br>\n",
    "Students = ['student1','student2','student3','student4','student5','student6','student7','student8','student9','student10'] <br>\n",
    "Marks = [45, 78, 12, 14, 48, 43, 45, 98, 35, 80] <br>\n",
    "from the above two lists the Student[0] got Marks[0],  Student[1] got Marks[1] and so on. <br><br>\n",
    "\n",
    "Your task is to print the name of students\n",
    "\n",
    "<strong>a. Who got top 5 ranks, in the descending order of marks</strong> <br>\n",
    "<strong>b. Who got least 5 ranks, in the increasing order of marks</strong><br>\n",
    "<strong>d. Who got marks between  &gt;25th percentile &lt;75th percentile, in the increasing order of marks.</strong>\n",
    "\n",
    "<pre>\n",
    "Ex 1: \n",
    "Students=['student1','student2','student3','student4','student5','student6','student7','student8','student9','student10'] \n",
    "Marks = [45, 78, 12, 14, 48, 43, 47, 98, 35, 80]\n",
    "\n",
    "a. \n",
    "student8  98\n",
    "student10 80\n",
    "student2  78\n",
    "student5  48\n",
    "student7  47\n",
    "\n",
    "b.\n",
    "student3 12\n",
    "student4 14\n",
    "student9 35\n",
    "student6 43\n",
    "student1 45\n",
    "\n",
    "c.\n",
    "student9 35\n",
    "student6 43\n",
    "student1 45\n",
    "student7 47\n",
    "student5 48\n",
    "</pre>"
   ]
  },
  {
   "cell_type": "code",
   "execution_count": 5,
   "metadata": {
    "colab": {},
    "colab_type": "code",
    "id": "_eysEkwOzQgI"
   },
   "outputs": [
    {
     "name": "stdout",
     "output_type": "stream",
     "text": [
      "Enter the names of the students separated by space: s1 s2 s3 \n",
      "\n",
      "Enter the marks of the coresponding students separated by space: 12 23 45\n",
      "\n",
      "Students who got top 5 ranks, in the descending order of marks: {'s3': 45, 's2': 23, 's1': 12}\n",
      "\n",
      "Students who got least 5 ranks, in the increasing order of marks: {'s1': 12, 's2': 23, 's3': 45}\n",
      "\n",
      "Students who got marks_within_25_and_75: {'s3': 45}\n"
     ]
    }
   ],
   "source": [
    "# write your python code here\n",
    "# you can take the above example as sample input for your program to test\n",
    "# it should work for any general input try not to hard code for only given input examples\n",
    "\n",
    "# you can free to change all these codes/structure\n",
    "\n",
    "input_student_string = input(\"Enter the names of the students separated by space: \")\n",
    "Students = list(input_student_string.split())\n",
    "\n",
    "input_marks_string = input(\"\\nEnter the marks of the coresponding students separated by space: \")\n",
    "A = list(input_marks_string.split())\n",
    "\n",
    "# using map() to perform conversion from input string to integer \n",
    "Marks = list(map(int, A)) \n",
    "#Creating a dictionary combining 2 lists\n",
    "dict = {k:v for k,v in zip(Students, Marks)}\n",
    "#print(dict)\n",
    "\n",
    "#Using dict comprehension\n",
    "dict_IQR={k:v for k,v in dict.items() if v>25 and v<75} \n",
    "#print(dict_IQR)\n",
    "\n",
    "\n",
    "def display_dash_board(Students, Marks):\n",
    "    \n",
    "    # write code for computing top top 5 students\n",
    "    #top_5_students = # compute this\n",
    "    top_5_students = {k:v for k,v in sorted(dict.items(), key=lambda x: x[1],reverse=True) [:5]}\n",
    "    \n",
    "    #firstNpairs = {k: Diction[k] for k in list(Diction.keys())[:n]}\n",
    "    #print(top_5_students)\n",
    "       \n",
    "    \n",
    "    # write code for computing top least 5 students\n",
    "    #least_5_students = # compute this\n",
    "    least_5_students = {k:v for k,v in sorted(dict.items(), key=lambda x: x[1]) [:5]}  \n",
    "    #print(least_5_students)\n",
    "    \n",
    "    # write code for computing top least 5 students\n",
    "    #students_within_25_and_75 = # compute this\n",
    "    students_within_25_and_75={k:v for k,v in sorted(dict_IQR.items(), key=lambda x: x[1])}\n",
    "    #print(students_within_25_and_75)\n",
    "    return top_5_students, least_5_students, students_within_25_and_75\n",
    "\n",
    "\n",
    "(top_5_students, least_5_students, students_within_25_and_75) = display_dash_board(Students, Marks)\n",
    "#print(# those values)\n",
    "print(\"\\nStudents who got top 5 ranks, in the descending order of marks: \" + str(top_5_students))\n",
    "print(\"\\nStudents who got least 5 ranks, in the increasing order of marks: \" + str(least_5_students))\n",
    "print(\"\\nStudents who got marks_within_25_and_75: \" + str(students_within_25_and_75))\n",
    "    "
   ]
  },
  {
   "cell_type": "markdown",
   "metadata": {
    "colab_type": "text",
    "id": "I32BmjOGzQgJ"
   },
   "source": [
    "<h3> Q5: Find the closest points</h3>\n",
    "\n",
    "Consider you are given n data points in the form of list of tuples like S=[(x1,y1),(x2,y2),(x3,y3),(x4,y4),(x5,y5),..,(xn,yn)] and a point P=(p,q) <br> your task is to find 5 closest points(based on cosine distance) in S from P\n",
    "\n",
    "<br>Cosine distance between two points (x,y) and (p,q) is defined as $cos^{-1}(\\frac{(x\\cdot p+y\\cdot q)}{\\sqrt(x^2+y^2)\\cdot\\sqrt(p^2+q^2)})$\n",
    "<pre>\n",
    "Ex:\n",
    "\n",
    "S= [(1,2),(3,4),(-1,1),(6,-7),(0, 6),(-5,-8),(-1,-1)(6,0),(1,-1)]\n",
    "P= (3,-4)\n",
    "<img src='https://i.imgur.com/vIFPOcG.jpg', width=300>\n",
    "Output:\n",
    "(6,-7)\n",
    "(1,-1)\n",
    "(6,0)\n",
    "(-5,-8)\n",
    "(-1,-1)\n",
    "</pre>"
   ]
  },
  {
   "cell_type": "code",
   "execution_count": 6,
   "metadata": {
    "colab": {},
    "colab_type": "code",
    "id": "cJAvixOHzQgK"
   },
   "outputs": [
    {
     "name": "stdout",
     "output_type": "stream",
     "text": [
      "[(6, -7), (1, -1), (6, 0), (-5, -8), (-1, -1)]\n"
     ]
    },
    {
     "data": {
      "text/plain": [
       "'def closest_points_to_p(S, P):\\n    # write your code here\\n    Output_List = list( (item[0]*P[0]+item[1]*P[1]) / math.sqrt ((item[0]**2+item [1]**2) * (P[0]**2+P[1]**2)) for item in S)\\n    Cosine_distance = list( math.acos(value) for value in Output_List )\\n\\n    value_cosinedistant = {k:v for k,v in zip(S,Cosine_distance)}\\n    Sorted_value_cosinedistant = {k:v for k,v in sorted(value_cosinedistant.items(), key=lambda x: x[1]) [:5]}\\n    closest_points_to_p = list((ls for ls in Sorted_value_cosinedistant.keys() ))\\n\\n    return closest_points_to_p  # its list of tuples\\n\\nS= [(1,2),(3,4),(-1,1),(6,-7),(0, 6),(-5,-8),(-1,-1)(6,0),(1,-1)]\\nP= (3,-4)\\n\\npoints = closest_points_to_p(S, P)\\nprint(points) #print the returned values\\n'"
      ]
     },
     "execution_count": 6,
     "metadata": {},
     "output_type": "execute_result"
    }
   ],
   "source": [
    "import math\n",
    "\n",
    "# write your python code here\n",
    "# you can take the above example as sample input for your program to test\n",
    "# it should work for any general input try not to hard code for only given input examples\n",
    "# you can free to change all these codes/structure\n",
    "\n",
    "#input_points = input(\"Enter the list of points in tuples separated by space: \")\n",
    "#S = list(input_points.split())\n",
    "#P = input(\"Enter the co ordinate of the source point in tuples: \")\n",
    "\n",
    "Data = [(1, 2), (3, 4), (-1, 1), (6, -7), (0, 6), (-5, -8), (-1, -1), (6, 0), (1, -1)]\n",
    "Point = (3,-4)\n",
    "\n",
    "Output_List = list( (item[0]*Point[0]+item[1]*Point[1]) / math.sqrt ((item[0]**2+item [1]**2) * (Point[0]**2+Point[1]**2)) for item in Data)\n",
    "Cosine_distance = list( math.acos(value) for value in Output_List )\n",
    "\n",
    "value_cosinedistant = {k:v for k,v in zip(Data,Cosine_distance)}\n",
    "Sorted_value_cosinedistant = {k:v for k,v in sorted(value_cosinedistant.items(), key=lambda x: x[1]) [:5]}\n",
    "closest_points_to_p = list((ls for ls in Sorted_value_cosinedistant.keys() ))\n",
    "\n",
    "print(closest_points_to_p)\n",
    "\n",
    "# here S is list of tuples and P is a tuple ot len=2\n",
    "\"\"\"def closest_points_to_p(S, P):\n",
    "    # write your code here\n",
    "    Output_List = list( (item[0]*P[0]+item[1]*P[1]) / math.sqrt ((item[0]**2+item [1]**2) * (P[0]**2+P[1]**2)) for item in S)\n",
    "    Cosine_distance = list( math.acos(value) for value in Output_List )\n",
    "\n",
    "    value_cosinedistant = {k:v for k,v in zip(S,Cosine_distance)}\n",
    "    Sorted_value_cosinedistant = {k:v for k,v in sorted(value_cosinedistant.items(), key=lambda x: x[1]) [:5]}\n",
    "    closest_points_to_p = list((ls for ls in Sorted_value_cosinedistant.keys() ))\n",
    "\n",
    "    return closest_points_to_p  # its list of tuples\n",
    "\n",
    "S= [(1,2),(3,4),(-1,1),(6,-7),(0, 6),(-5,-8),(-1,-1)(6,0),(1,-1)]\n",
    "P= (3,-4)\n",
    "\n",
    "points = closest_points_to_p(S, P)\n",
    "print(points) #print the returned values\n",
    "\"\"\""
   ]
  },
  {
   "cell_type": "markdown",
   "metadata": {
    "colab_type": "text",
    "id": "v6gI7N5tzQgL"
   },
   "source": [
    "<h3> Q6: Find which line separates oranges and apples</h3>\n",
    "\n",
    "Consider you are given two set of data points in the form of list of tuples like \n",
    "<pre>\n",
    "Red =[(R11,R12),(R21,R22),(R31,R32),(R41,R42),(R51,R52),..,(Rn1,Rn2)]\n",
    "Blue=[(B11,B12),(B21,B22),(B31,B32),(B41,B42),(B51,B52),..,(Bm1,Bm2)]\n",
    "</pre>\n",
    "and set of line equations(in the string format, i.e list of strings)\n",
    "<pre>\n",
    "Lines = [a1x+b1y+c1,a2x+b2y+c2,a3x+b3y+c3,a4x+b4y+c4,..,K lines]\n",
    "Note: You need to do string parsing here and get the coefficients of x,y and intercept.\n",
    "</pre>\n",
    "Your task here is to print \"YES\"/\"NO\" for each line given. You should print YES, if all the red points are one side of the line and blue points are on other side of the line, otherwise you should print NO.\n",
    "<pre>\n",
    "Ex:\n",
    "Red= [(1,1),(2,1),(4,2),(2,4), (-1,4)]\n",
    "Blue= [(-2,-1),(-1,-2),(-3,-2),(-3,-1),(1,-3)]\n",
    "Lines=[\"1x+1y+0\",\"1x-1y+0\",\"1x+0y-3\",\"0x+1y-0.5\"]\n",
    "<img src='https://i.imgur.com/DoQf7mE.jpg' width=400>\n",
    "Output:\n",
    "YES\n",
    "NO\n",
    "NO\n",
    "YES\n",
    "</pre>"
   ]
  },
  {
   "cell_type": "code",
   "execution_count": 1,
   "metadata": {
    "colab": {},
    "colab_type": "code",
    "id": "RN_X34WtzQgM"
   },
   "outputs": [
    {
     "name": "stdout",
     "output_type": "stream",
     "text": [
      "YES\n",
      "NO\n",
      "NO\n",
      "YES\n"
     ]
    }
   ],
   "source": [
    "import math\n",
    "import re\n",
    "# write your python code here\n",
    "# you can take the above example as sample input for your program to test\n",
    "# it should work for any general input try not to hard code for only given input strings\n",
    "# you can free to change all these codes/structure\n",
    "\n",
    "#Reference :https://doubleroot.in/lessons/straight-line/position-of-a-point-relative-to-a-line/,\n",
    "#https://stackoverflow.com/questions/56948506/how-to-extract-coefficients-from-a-line-equation-in-python-without-using-numpy\n",
    "def i_am_the_one(Red,Blue,Line):\n",
    "    for i in Lines:\n",
    "        z = re.findall(r'[\\d\\.\\-\\+]+', i) #extracting the coefficients from line Equation\n",
    "        for r in Red:\n",
    "            equation_red=r[0]*float(z[0])+r[1]*float(z[1])+float(z[2])  #replacing red points in the equation\n",
    "        for b in Blue:\n",
    "            equation_blue=b[0]*float(z[0])+b[1]*float(z[1])+float(z[2]) #replacing blue points in the equation\n",
    "        if(equation_red >0.0 and equation_blue<0.0):\n",
    "            print(\"YES\")\n",
    "        else:\n",
    "            print('NO')\n",
    "    # your code\n",
    "    return #yes/no\n",
    "\n",
    "Red= [(1,1),(2,1),(4,2),(2,4), (-1,4)]\n",
    "Blue= [(-2,-1),(-1,-2),(-3,-2),(-3,-1),(1,-3)]\n",
    "Lines=[\"1x+1y+0\",\"1x-1y+0\",\"1x+0y-3\",\"0x+1y-0.5\"]\n",
    "\n",
    "yes_or_no = i_am_the_one(Red, Blue, Lines)\n",
    "#print() # the returned value"
   ]
  },
  {
   "cell_type": "markdown",
   "metadata": {
    "colab_type": "text",
    "id": "_pJcGohbzQgO"
   },
   "source": [
    "<h3> Q7: Filling the missing values in the specified format</h3>\n",
    "\n",
    "You will be given a string with digits and '\\_'(missing value) symbols you have to replace the '\\_' symbols as explained \n",
    "\n",
    "<pre>\n",
    "Ex 1: _, _, _, 24 ==> 24/4, 24/4, 24/4, 24/4 i.e we. have distributed the 24 equally to all 4 places <br>\n",
    "Ex 2: 40, _, _, _, 60 ==> (60+40)/5,(60+40)/5,(60+40)/5,(60+40)/5,(60+40)/5 ==> 20, 20, 20, 20, 20 i.e. the sum of (60+40) is distributed qually to all 5 places<br>\n",
    "Ex 3: 80, _, _, _, _  ==> 80/5,80/5,80/5,80/5,80/5 ==> 16, 16, 16, 16, 16 i.e. the 80 is distributed qually to all 5 missing values that are right to it<br>\n",
    "Ex 4: _, _, 30, _, _, _, 50, _, _  \n",
    "==> we will fill the missing values from left to right \n",
    "    a. first we will distribute the 30 to left two missing values (10, 10, 10, _, _, _, 50, _, _)\n",
    "    b. now distribute the sum (10+50) missing values in between (10, 10, 12, 12, 12, 12, 12, _, _) \n",
    "    c. now we will distribute 12 to right side missing values (10, 10, 12, 12, 12, 12, 4, 4, 4)\n",
    "</pre>\n",
    "for a given string with comma seprate values, which will have both missing values numbers like ex: \"_, _, x, _, _, _\"\n",
    "you need fill the missing values\n",
    "\n",
    "Q: your program reads a string like ex: \"_, _, x, _, _, _\" and returns the filled sequence\n",
    "\n",
    "Ex: \n",
    "<pre>\n",
    "Input1: \"_,_,_,24\"\n",
    "Output1: 6,6,6,6\n",
    "\n",
    "Input2: \"40,_,_,_,60\"\n",
    "Output2: 20,20,20,20,20\n",
    "\n",
    "Input3: \"80,_,_,_,_\"\n",
    "Output3: 16,16,16,16,16\n",
    "\n",
    "Input4: \"_,_,30,_,_,_,50,_,_\"\n",
    "Output4: 10,10,12,12,12,12,4,4,4\n",
    "</pre>\n",
    "\n"
   ]
  },
  {
   "cell_type": "code",
   "execution_count": 2,
   "metadata": {
    "colab": {},
    "colab_type": "code",
    "id": "91z7aHTozQgO"
   },
   "outputs": [
    {
     "name": "stdout",
     "output_type": "stream",
     "text": [
      "[6, 6, 6, 6]\n",
      "[20, 20, 20, 20, 20]\n",
      "[16, 16, 16, 16, 16]\n",
      "[10, 10, 12, 12, 12, 12, 4, 4, 4]\n"
     ]
    }
   ],
   "source": [
    "# write your python code here\n",
    "# you can take the above example as sample input for your program to test\n",
    "# it should work for any general input try not to hard code for only given input strings\n",
    "\n",
    "\n",
    "# you can free to change all these codes/structure\n",
    "def curve_smoothing(string):\n",
    "    first_index = 0\n",
    "    last_index = 0\n",
    "    first_number = 0\n",
    "    last_number = 0\n",
    "    value_to_be_replaced =0\n",
    "    string1 = string.split(',')\n",
    "    \n",
    "    for i in range(0,(len(string1))):\n",
    "        if string1[i] != '_':\n",
    "            last_index = i\n",
    "            last_number = int(string1[i])\n",
    "            value_to_be_replaced=int ((first_number+last_number) / ((last_index - first_index)+1))\n",
    "        \n",
    "            for a in range(first_index,last_index+1):\n",
    "                string1[a] = value_to_be_replaced\n",
    "            first_index = last_index\n",
    "            first_number = int(string1[last_index])\n",
    "    \n",
    "    \n",
    "    string2 = string1[::-1]  #reversing the string\n",
    "    \n",
    "    first_index = 0\n",
    "    last_index = 0\n",
    "    first_number = 0\n",
    "    last_number = 0\n",
    "    for i in range(0,(len(string2))):\n",
    "        if string2[i] != '_':\n",
    "            last_index = i\n",
    "            last_number = int(string2[i])\n",
    "            value_to_be_replaced = int ((first_number+last_number) / ((last_index - first_index)+1))\n",
    "        \n",
    "            for a in range(first_index,last_index+1):\n",
    "                string2[a] = value_to_be_replaced\n",
    "            break                      #looping till first non '_' value, then break\n",
    "\n",
    "    \n",
    "    return string2[::-1]    #Reversing final string\n",
    "\n",
    "strings=[\"_,_,_,24\",\"40,_,_,_,60\",\"80,_,_,_,_\",\"_,_,30,_,_,_,50,_,_\"]    ##List of input strings\n",
    "for string in strings:\n",
    "    smoothed_values= curve_smoothing(string)\n",
    "    print(smoothed_values)\n"
   ]
  },
  {
   "cell_type": "markdown",
   "metadata": {
    "colab_type": "text",
    "id": "RRsdP3MvzQgR"
   },
   "source": [
    "<h3> Q8: Find the probabilities</h3>\n",
    "\n",
    "You will be given a list of lists, each sublist will be of length 2 i.e. [[x,y],[p,q],[l,m]..[r,s]]\n",
    "consider its like a martrix of n rows and two columns\n",
    "1. The first column F will contain only 5 uniques values (F1, F2, F3, F4, F5)\n",
    "2. The second column S will contain only 3 uniques values (S1, S2, S3)\n",
    "<pre>\n",
    "your task is to find\n",
    "a. Probability of P(F=F1|S==S1), P(F=F1|S==S2), P(F=F1|S==S3)\n",
    "b. Probability of P(F=F2|S==S1), P(F=F2|S==S2), P(F=F2|S==S3)\n",
    "c. Probability of P(F=F3|S==S1), P(F=F3|S==S2), P(F=F3|S==S3)\n",
    "d. Probability of P(F=F4|S==S1), P(F=F4|S==S2), P(F=F4|S==S3)\n",
    "e. Probability of P(F=F5|S==S1), P(F=F5|S==S2), P(F=F5|S==S3)\n",
    "</pre>\n",
    "Ex:\n",
    "\n",
    "<pre>\n",
    "[[F1,S1],[F2,S2],[F3,S3],[F1,S2],[F2,S3],[F3,S2],[F2,S1],[F4,S1],[F4,S3],[F5,S1]]\n",
    "\n",
    "a. P(F=F1|S==S1)=1/4, P(F=F1|S==S2)=1/3, P(F=F1|S==S3)=0/3\n",
    "b. P(F=F2|S==S1)=1/4, P(F=F2|S==S2)=1/3, P(F=F2|S==S3)=1/3\n",
    "c. P(F=F3|S==S1)=0/4, P(F=F3|S==S2)=1/3, P(F=F3|S==S3)=1/3\n",
    "d. P(F=F4|S==S1)=1/4, P(F=F4|S==S2)=0/3, P(F=F4|S==S3)=1/3\n",
    "e. P(F=F5|S==S1)=1/4, P(F=F5|S==S2)=0/3, P(F=F5|S==S3)=0/3\n",
    "</pre>\n",
    "\n"
   ]
  },
  {
   "cell_type": "code",
   "execution_count": 26,
   "metadata": {
    "colab": {},
    "colab_type": "code",
    "id": "YACLYXRazQgR"
   },
   "outputs": [
    {
     "name": "stdout",
     "output_type": "stream",
     "text": [
      "P( F1 | S1 )= 0.25\n",
      "P( F1 | S2 )= 0.33333333333333337\n",
      "P( F1 | S3 )= 0.0\n",
      "P( F2 | S1 )= 0.25\n",
      "P( F2 | S2 )= 0.33333333333333337\n",
      "P( F2 | S3 )= 0.33333333333333337\n",
      "P( F3 | S1 )= 0.0\n",
      "P( F3 | S2 )= 0.33333333333333337\n",
      "P( F3 | S3 )= 0.33333333333333337\n",
      "P( F4 | S1 )= 0.25\n",
      "P( F4 | S2 )= 0.0\n",
      "P( F4 | S3 )= 0.33333333333333337\n",
      "P( F5 | S1 )= 0.25\n",
      "P( F5 | S2 )= 0.0\n",
      "P( F5 | S3 )= 0.0\n"
     ]
    }
   ],
   "source": [
    "# write your python code here\n",
    "# you can take the above example as sample input for your program to test\n",
    "# it should work for any general input try not to hard code for only given input strings\n",
    "#Ref: https://stackoverflow.com/questions/952914/how-to-make-a-flat-list-out-of-list-of-lists\n",
    "#Ref: https://stackoverflow.com/questions/2600191/how-can-i-count-the-occurrences-of-a-list-item\n",
    "\n",
    "from itertools import chain\n",
    "#from functools import reduce\n",
    "#from collections import Iterable  # or from collections.abc import Iterable\n",
    "#import operator\n",
    "#from iteration_utilities import deepflatten   ---error in binder Requires: Python >=3.5 \n",
    "from collections import Counter #Using or importing the ABCs from 'collections' instead of from 'collections.abc' is deprecated, and in 3.8 it will stop working\n",
    "\n",
    "# you can free to change all these codes/structure\n",
    "def compute_conditional_probabilites(A):\n",
    "    #probability of P(F|S) = P(F intersection S) / P(S)   #Conditional Probability\n",
    "    SampleSpace=int(len(A))\n",
    "    Numeratorcount = 0                    #assigning variable value\n",
    "    #%timeit list(itertools.chain.from_iterable(A))       --- not working\n",
    "    #%timeit list(chain.from_iterable(A))                --fastest for large dataset\n",
    "    #%timeit reduce(operator.concat, A) #slower than chain iterable\n",
    "    #%timeit reduce(operator.iconcat, A, [])              #faster than concat\n",
    "    B=list(chain.from_iterable(A))      #making a single list from list of lists\n",
    "     \n",
    "    for r in range(len(allinput)):\n",
    "        for i in range(len(A)):\n",
    "            if(allinput[r][0]== A[i][0] and allinput[r][1]==A[i][1]):\n",
    "                Numeratorcount+=1       #taking the count of P(F intersection S)\n",
    "        ConditionalProbability = (Numeratorcount/SampleSpace)/ (B.count(allinput[r][1])/SampleSpace)\n",
    "        print('P(',allinput[r][0],'|',allinput[r][1],')=',ConditionalProbability)\n",
    "        Numeratorcount = 0              #assigning count ='0' for next iteration\n",
    "    return\n",
    "#Input List:\n",
    "A = [['F1','S1'],['F2','S2'],['F3','S3'],['F1','S2'],['F2','S3'],['F3','S2'],['F2','S1'],['F4','S1'],['F4','S3'],['F5','S1']]\n",
    "allinput = [['F1','S1'],['F1','S2'],['F1','S3'],['F2','S1'],['F2','S2'],['F2','S3'],['F3','S1'],['F3','S2'],['F3','S3'],['F4','S1'],['F4','S2'],['F4','S3']\n",
    "        ,['F5','S1'],['F5','S2'],['F5','S3']]\n",
    "compute_conditional_probabilites(A)"
   ]
  },
  {
   "cell_type": "markdown",
   "metadata": {
    "colab_type": "text",
    "id": "uI5OefuszQgT"
   },
   "source": [
    "<h3> Q9: Operations on sentences </h3>\n",
    "\n",
    "You will be given two sentances S1, S2 your task is to find \n",
    "<pre>\n",
    "a. Number of common words between S1, S2\n",
    "b. Words in S1 but not in S2\n",
    "c. Words in S2 but not in S1\n",
    "</pre>\n",
    "\n",
    "Ex: \n",
    "<pre>\n",
    "S1= \"the first column F will contain only 5 unique values\"\n",
    "S2= \"the second column S will contain only 3 unique values\"\n",
    "Output:\n",
    "a. 7\n",
    "b. ['first','F','5']\n",
    "c. ['second','S','3']\n",
    "</pre>"
   ]
  },
  {
   "cell_type": "code",
   "execution_count": 45,
   "metadata": {
    "colab": {},
    "colab_type": "code",
    "id": "6efRp-EizQgU"
   },
   "outputs": [
    {
     "name": "stdout",
     "output_type": "stream",
     "text": [
      " a.7 \n",
      " b.{'first', '5', 'F'} \n",
      " c.{'second', 'S', '3'}\n"
     ]
    }
   ],
   "source": [
    "# write your python code here\n",
    "# you can take the above example as sample input for your program to test\n",
    "# it should work for any general input try not to hard code for only given input strings\n",
    "\n",
    "# you can free to change all these codes/structure\n",
    "#Ref: https://stackoverflow.com/questions/11938964/how-to-find-common-words-and-print-them-using-python-command\n",
    "def string_features(S1, S2):\n",
    "    s1_splitted=S1.split()\n",
    "    s2_splitted=S2.split()\n",
    "    \n",
    "    #using set union and intersection\n",
    "    No_of_common_words = set(s1_splitted).intersection(set(s2_splitted))\n",
    "    #No_of_common_words = set(s1_splitted) & (set(s2_splitted))\n",
    "    Words_only_in_S1 = set(s1_splitted).difference(set(s2_splitted))\n",
    "    Words_only_in_S2 = set(s2_splitted) - set(s1_splitted)\n",
    "\n",
    "    a =(len(No_of_common_words))\n",
    "    b = (Words_only_in_S1)\n",
    "    c = (Words_only_in_S2)\n",
    "    \n",
    "    return a, b, c\n",
    "\n",
    "S1= \"the first column F will contain only 5 uniques values\"\n",
    "S2= \"the second column S will contain only 3 uniques values\"\n",
    "a,b,c = string_features(S1, S2)\n",
    "print(\" a.\"+str(a),\"\\n b.\"+str(b),\"\\n c.\"+str(c))"
   ]
  },
  {
   "cell_type": "markdown",
   "metadata": {
    "colab_type": "text",
    "id": "tSajhVSIzQgV"
   },
   "source": [
    "<h3> Q10: Error Function</h3>\n",
    "\n",
    "You will be given a list of lists, each sublist will be of length 2 i.e. [[x,y],[p,q],[l,m]..[r,s]]\n",
    "consider its like a martrix of n rows and two columns\n",
    "\n",
    "a. the first column Y will contain interger values <br>\n",
    "b. the second column $Y_{score}$ will be having float values <br>\n",
    "Your task is to find the value of $f(Y,Y_{score}) = -1*\\frac{1}{n}\\Sigma_{for each Y,Y_{score} pair}(Ylog10(Y_{score})+(1-Y)log10(1-Y_{score}))$ here n is the number of rows in the matrix\n",
    "<pre>\n",
    "Ex:\n",
    "[[1, 0.4], [0, 0.5], [0, 0.9], [0, 0.3], [0, 0.6], [1, 0.1], [1, 0.9], [1, 0.8]]\n",
    "output:\n",
    "0.44982\n",
    "</pre>\n",
    "$\\frac{-1}{8}\\cdot((1\\cdot log_{10}(0.4)+0\\cdot log_{10}(0.6))+(0\\cdot log_{10}(0.5)+1\\cdot log_{10}(0.5)) + ... + (1\\cdot log_{10}(0.8)+0\\cdot log_{10}(0.2)) )$"
   ]
  },
  {
   "cell_type": "code",
   "execution_count": 57,
   "metadata": {
    "colab": {},
    "colab_type": "code",
    "id": "4zem9mM5zQgW"
   },
   "outputs": [
    {
     "name": "stdout",
     "output_type": "stream",
     "text": [
      "0.42430993457031635\n"
     ]
    }
   ],
   "source": [
    "# write your python code here\n",
    "# you can take the above example as sample input for your program to test\n",
    "# it should work for any general input try not to hard code for only given input strings\n",
    "\n",
    "import math\n",
    "# you can free to change all these codes/structure\n",
    "def compute_log_loss(A):\n",
    "    error = 0\n",
    "    for i in range(len(A)):\n",
    "        error += ((float(A[i][0]) * math.log10(A[i][1])) + ((1-float(A[i][0])) * (math.log10(1-A[i][1]))))\n",
    "    error = (error/len(A))*(-1)\n",
    "    return error\n",
    "\n",
    "A = [[1, 0.4], [0, 0.5], [0, 0.9], [0, 0.3], [0, 0.6], [1, 0.1], [1, 0.9], [1, 0.8]]\n",
    "\n",
    "print(compute_log_loss(A))"
   ]
  },
  {
   "cell_type": "code",
   "execution_count": null,
   "metadata": {},
   "outputs": [],
   "source": []
  }
 ],
 "metadata": {
  "colab": {
   "name": "2. Python Mandatory Assignment.ipynb",
   "provenance": [],
   "version": "0.3.2"
  },
  "kernelspec": {
   "display_name": "Python 3",
   "language": "python",
   "name": "python3"
  },
  "language_info": {
   "codemirror_mode": {
    "name": "ipython",
    "version": 3
   },
   "file_extension": ".py",
   "mimetype": "text/x-python",
   "name": "python",
   "nbconvert_exporter": "python",
   "pygments_lexer": "ipython3",
   "version": "3.6.5"
  }
 },
 "nbformat": 4,
 "nbformat_minor": 1
}
